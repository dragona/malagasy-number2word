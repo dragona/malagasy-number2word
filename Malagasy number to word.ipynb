{
 "cells": [
  {
   "cell_type": "code",
   "execution_count": 22,
   "id": "52660c45",
   "metadata": {},
   "outputs": [],
   "source": [
    "class Number2Word:\n",
    "    numbers = [\"iray\", \"roa\", \"telo\", \"efatra\", \"dimy\", \"enina\", \"fito\", \"valo\", \"sivy\"]\n",
    "    numbers_ten = [\"folo\", \"roapolo\", \"telopolo\", \"efapolo\", \"dimampolo\", \"enimpolo\", \"fitopolo\", \"valopolo\", \"sivifolo\"]\n",
    "    numbers_hundred = [\n",
    "        \"zato\", \"roanjato\", \"telonjato\", \"efajato\",\n",
    "        \"dimanjato\", \"eninjato\", \"fitonjato\", \"valonjato\", \"sivinjato\"\n",
    "    ]\n",
    "\n",
    "    def __init__(self, number):\n",
    "        self.number = number\n",
    "\n",
    "    def split(self, number):\n",
    "        results = []\n",
    "        for i in range(0, 6):\n",
    "            results.append(-1)\n",
    "        digits = [int(a) for a in str(number)]\n",
    "        i = 0\n",
    "        for elt in reversed(digits):\n",
    "            results[i] = elt\n",
    "            i = i + 1\n",
    "        return results\n",
    "\n",
    "    def convert(self):\n",
    "        results = self.split(self.number)\n",
    "        isa, folo, zato, arivo, alina, hetsy = results[0], results[1], results[2], results[3], results[4], results[5]\n",
    "        letter_isa = \"\" if (isa == -1 or isa == 0) else self.numbers[isa - 1]\n",
    "        letter_folo = \"\" if (folo == -1 or folo == 0) else self.numbers_ten[folo - 1]\n",
    "        if letter_isa == \"\":\n",
    "            letters = letter_folo\n",
    "        else:\n",
    "            connector = \" ambin'ny \" if folo == 1 else \" amby \"\n",
    "            if letter_folo != \"\":\n",
    "                letters = f\"{letter_isa}{connector}{letter_folo}\"\n",
    "            else:\n",
    "                letters = f\"{letter_isa}\"\n",
    "        letter_zato = \"\" if (zato == -1 or zato == 0) else self.numbers_hundred[zato - 1]\n",
    "        if letter_zato != \"\":\n",
    "            connector = \"\" if letters == \"\" else (\" amby \" if zato == 1 else \" sy \")\n",
    "            letters = f\"{letters}{connector}{letter_zato}\"\n",
    "        letter_arivo = \"\" if (arivo == -1 or arivo == 0) else (\n",
    "            \"arivo\" if arivo == 1 else f\"{self.numbers[arivo - 1]} arivo\")\n",
    "        connector = \"\" if letter_arivo == \"\" else (\"\" if letters == \"\" else \" sy \")\n",
    "        letters = f\"{letters}{connector}{letter_arivo}\"\n",
    "        letter_alina = \"\" if (alina == -1 or alina == 0) else f\"{self.numbers[alina - 1]} alina\"\n",
    "        connector = \"\" if letter_alina == \"\" else (\"\" if letters == \"\" else \" sy \")\n",
    "        letters = f\"{letters}{connector}{letter_alina}\"\n",
    "        letter_hetsy = \"\" if (hetsy == -1 or hetsy == 0) else f\"{self.numbers[hetsy - 1]} hetsy\"\n",
    "        connector = \"\" if letter_hetsy == \"\" else (\"\" if letters == \"\" else \" sy \")\n",
    "        letters = f\"{letters}{connector}{letter_hetsy}\"\n",
    "        # fix rules \"iray ambin'ny folo\" to \"iraika ambin'ny folo\"\n",
    "        letters = letters.replace(\"iray ambin'ny folo\", \"iraik'ambin'ny folo\")\n",
    "        # fix rules \"iray amby\" to \"iraika amby\"          \n",
    "        letters = letters.replace(\"iray amby\", \"iraik'ambin'ny\")\n",
    "        return letters\n",
    "\n",
    "\n",
    "\n",
    "\n"
   ]
  },
  {
   "cell_type": "code",
   "execution_count": 26,
   "id": "81d80117",
   "metadata": {},
   "outputs": [
    {
     "name": "stdout",
     "output_type": "stream",
     "text": [
      "choose a number (<= 1 000 000): 1101\n",
      "1101 to letter in Malagasy is: iraik'ambin'ny zato sy arivo\n"
     ]
    }
   ],
   "source": [
    "try:\n",
    "    n_input = int(input(\"choose a number (<= 1 000 000): \"))\n",
    "except Exception as e:\n",
    "    n_input = None\n",
    "while n_input is None or n_input > 1_000_000 or n_input <= 0:\n",
    "    try:\n",
    "        n_input = int(input(\"choose a number (<= 1 000 000): \"))\n",
    "    except Exception as e:\n",
    "        n_input = None\n",
    "n = Number2Word(n_input)\n",
    "letter = n.convert()\n",
    "print(f\"{n_input} to letter in Malagasy is: {letter}\")"
   ]
  },
  {
   "cell_type": "code",
   "execution_count": 24,
   "id": "fae594a3",
   "metadata": {},
   "outputs": [
    {
     "name": "stdout",
     "output_type": "stream",
     "text": [
      "1 to letter in Malagasy is: iray\n",
      "111 to letter in Malagasy is: iraik'ambin'ny folo amby zato\n",
      "221 to letter in Malagasy is: iraik'ambin'ny roapolo sy roanjato\n",
      "331 to letter in Malagasy is: iraik'ambin'ny telopolo sy telonjato\n",
      "441 to letter in Malagasy is: iraik'ambin'ny efapolo sy efajato\n",
      "551 to letter in Malagasy is: iraik'ambin'ny dimampolo sy dimanjato\n",
      "661 to letter in Malagasy is: iraik'ambin'ny enimpolo sy eninjato\n",
      "771 to letter in Malagasy is: iraik'ambin'ny fitopolo sy fitonjato\n",
      "881 to letter in Malagasy is: iraik'ambin'ny valopolo sy valonjato\n",
      "991 to letter in Malagasy is: iraik'ambin'ny sivifolo sy sivinjato\n",
      "1101 to letter in Malagasy is: iraik'ambin'ny zato sy arivo\n"
     ]
    }
   ],
   "source": [
    "for number in range(1, 1112,110):\n",
    "    n = Number2Word(number)\n",
    "    letter = n.convert()\n",
    "    print(f\"{number} to letter in Malagasy is: {letter}\")"
   ]
  },
  {
   "cell_type": "code",
   "execution_count": 48,
   "id": "4b75a2ae",
   "metadata": {},
   "outputs": [],
   "source": [
    "import pandas as pd\n",
    "\n",
    "# build a dataframe\n",
    "df = pd.DataFrame(columns=[\"number\", \"word2number_malagasy\"])\n",
    "\n",
    "# print(df)\n",
    "\n",
    "for number in range(1, 1000000):\n",
    "    n = Number2Word(number)\n",
    "    letter = n.convert()\n",
    "    df_new_part = pd.DataFrame({\"number\":number, \"word2number_malagasy\":letter}, columns=[\"number\", \"word2number_malagasy\"], index=[0])\n",
    "#     print(df_new_part)\n",
    "    df = pd.concat([df, df_new_part], ignore_index=True)\n",
    "    \n",
    "\n",
    "# df\n",
    "# save the dataframe as a csv    \n",
    "df.to_csv(\"malagasy_number_to_word.csv\", sep='\\t', encoding='utf-8')\n",
    "    "
   ]
  },
  {
   "cell_type": "code",
   "execution_count": 47,
   "id": "c2a0ee5b",
   "metadata": {},
   "outputs": [],
   "source": [
    "!open ."
   ]
  },
  {
   "cell_type": "code",
   "execution_count": null,
   "id": "755b8772",
   "metadata": {},
   "outputs": [],
   "source": []
  }
 ],
 "metadata": {
  "kernelspec": {
   "display_name": "Python 3 (ipykernel)",
   "language": "python",
   "name": "python3"
  },
  "language_info": {
   "codemirror_mode": {
    "name": "ipython",
    "version": 3
   },
   "file_extension": ".py",
   "mimetype": "text/x-python",
   "name": "python",
   "nbconvert_exporter": "python",
   "pygments_lexer": "ipython3",
   "version": "3.9.12"
  }
 },
 "nbformat": 4,
 "nbformat_minor": 5
}
